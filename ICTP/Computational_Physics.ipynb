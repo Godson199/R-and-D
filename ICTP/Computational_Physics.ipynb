{
 "cells": [
  {
   "cell_type": "markdown",
   "id": "462f02de-d19f-46b8-a7ec-d65dead6095f",
   "metadata": {},
   "source": [
    "## Computational Physics"
   ]
  },
  {
   "cell_type": "code",
   "execution_count": 2,
   "id": "15075266-76c1-4bbe-bd92-f3d3adc6b4d3",
   "metadata": {},
   "outputs": [],
   "source": [
    "import os\n",
    "import scipy\n",
    "import numpy as np\n",
    "import sympy as sym\n",
    "import matplotlib.pyplot as plt\n",
    "import seaborn as sns; sns.set()\n",
    "import warnings; warnings.filterwarnings('ignore')\n",
    "\n",
    "%matplotlib inline"
   ]
  },
  {
   "cell_type": "code",
   "execution_count": null,
   "id": "11a338f0-fae7-4c97-944c-dcda83328823",
   "metadata": {},
   "outputs": [],
   "source": []
  }
 ],
 "metadata": {
  "kernelspec": {
   "display_name": "Python 3 (ipykernel)",
   "language": "python",
   "name": "python3"
  },
  "language_info": {
   "codemirror_mode": {
    "name": "ipython",
    "version": 3
   },
   "file_extension": ".py",
   "mimetype": "text/x-python",
   "name": "python",
   "nbconvert_exporter": "python",
   "pygments_lexer": "ipython3",
   "version": "3.7.11"
  }
 },
 "nbformat": 4,
 "nbformat_minor": 5
}
